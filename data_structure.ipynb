{
  "nbformat": 4,
  "nbformat_minor": 0,
  "metadata": {
    "colab": {
      "provenance": [],
      "include_colab_link": true
    },
    "kernelspec": {
      "name": "python3",
      "display_name": "Python 3"
    },
    "language_info": {
      "name": "python"
    }
  },
  "cells": [
    {
      "cell_type": "markdown",
      "metadata": {
        "id": "view-in-github",
        "colab_type": "text"
      },
      "source": [
        "<a href=\"https://colab.research.google.com/github/Vyshnavichervirala/vyshnavi/blob/main/data_structure.ipynb\" target=\"_parent\"><img src=\"https://colab.research.google.com/assets/colab-badge.svg\" alt=\"Open In Colab\"/></a>"
      ]
    },
    {
      "cell_type": "code",
      "source": [],
      "metadata": {
        "id": "Cw8ffkhMk6RQ"
      },
      "execution_count": null,
      "outputs": []
    },
    {
      "cell_type": "markdown",
      "source": [
        "## 1.Difference between the list and tuple?"
      ],
      "metadata": {
        "id": "HN6tCq60j2mQ"
      }
    },
    {
      "cell_type": "code",
      "source": [
        "my_list = [1, 2, 3, 4]\n",
        "my_list[2] = 10\n",
        "print(my_list)\n",
        "my_tuple = (1, 2, 3, 4)"
      ],
      "metadata": {
        "id": "_E2J-TrTs6__",
        "outputId": "af266a81-4271-43a0-a938-cd518a9b8add",
        "colab": {
          "base_uri": "https://localhost:8080/"
        }
      },
      "execution_count": 12,
      "outputs": [
        {
          "output_type": "stream",
          "name": "stdout",
          "text": [
            "[1, 2, 10, 4]\n"
          ]
        }
      ]
    },
    {
      "cell_type": "markdown",
      "source": [],
      "metadata": {
        "id": "PkpwRWq6pMFP"
      }
    },
    {
      "cell_type": "markdown",
      "source": [
        "## 2.How list is different from an array"
      ],
      "metadata": {
        "id": "uWhJG7hzk6Ov"
      }
    },
    {
      "cell_type": "code",
      "source": [
        "\n",
        "my_list = [1, 2, 3, 4, 5]\n",
        "double_list = [2 * x for x in my_list]\n",
        "print(double_list)\n",
        "import numpy as np\n",
        "\n",
        "my_array = np.array([1, 2, 3, 4, 5])\n",
        "double_array = 2 * my_array\n",
        "print(double_array)\n"
      ],
      "metadata": {
        "id": "MowyCcINo4Mn",
        "outputId": "ad2e3076-d35f-48b9-c410-cdede427b5c2",
        "colab": {
          "base_uri": "https://localhost:8080/"
        }
      },
      "execution_count": 1,
      "outputs": [
        {
          "output_type": "stream",
          "name": "stdout",
          "text": [
            "[2, 4, 6, 8, 10]\n",
            "[ 2  4  6  8 10]\n"
          ]
        }
      ]
    },
    {
      "cell_type": "markdown",
      "source": [],
      "metadata": {
        "id": "1uPEIFbxmQwt"
      }
    },
    {
      "cell_type": "markdown",
      "source": [
        "## 3. Use the python list append(),copy(), clear, count, extends(), index(), insert(), pop(), reverse(), sort(), min(), max(),and sum()"
      ],
      "metadata": {
        "id": "_0Rn7JQSk6M1"
      }
    },
    {
      "cell_type": "code",
      "source": [
        "my_list = [3, 1, 4, 1, 5, 9, 2, 6, 5, 3, 5]\n",
        "my_list.append(8)\n",
        "print(\"After append(8):\", my_list)\n",
        "copied_list = my_list.copy()\n",
        "print(\"Copied list:\", copied_list)\n",
        "my_list.clear()\n",
        "print(\"After clear():\", my_list)\n",
        "original_list = [1, 2, 3, 1, 4, 1, 5]\n",
        "count_ones = original_list.count(1)\n",
        "print(\"Count of 1 in the list:\", count_ones)\n",
        "original_list.extend([6, 7, 8])\n",
        "print(\"After extend([6, 7, 8]):\", original_list)\n",
        "index_of_4 = original_list.index(4)\n",
        "print(\"Index of 4:\", index_of_4)\n",
        "original_list.insert(2, 10)\n",
        "print(\"After insert(2, 10):\", original_list)\n",
        "popped_element = original_list.pop()\n",
        "print(\"Popped element:\", popped_element)\n",
        "print(\"After pop():\", original_list)\n",
        "original_list.reverse()\n",
        "print(\"After reverse():\", original_list)\n",
        "original_list.sort()\n",
        "print(\"After sort():\", original_list)\n",
        "min_value = min(original_list)\n",
        "max_value = max(original_list)\n",
        "print(\"Min value:\", min_value)\n",
        "print(\"Max value:\", max_value)\n",
        "sum_of_elements = sum(original_list)\n",
        "print(\"Sum of elements:\", sum_of_elements)\n"
      ],
      "metadata": {
        "id": "9MFsXplct0Dn",
        "outputId": "5adf9abc-3546-46d4-8131-2d766954010f",
        "colab": {
          "base_uri": "https://localhost:8080/"
        }
      },
      "execution_count": 2,
      "outputs": [
        {
          "output_type": "stream",
          "name": "stdout",
          "text": [
            "After append(8): [3, 1, 4, 1, 5, 9, 2, 6, 5, 3, 5, 8]\n",
            "Copied list: [3, 1, 4, 1, 5, 9, 2, 6, 5, 3, 5, 8]\n",
            "After clear(): []\n",
            "Count of 1 in the list: 3\n",
            "After extend([6, 7, 8]): [1, 2, 3, 1, 4, 1, 5, 6, 7, 8]\n",
            "Index of 4: 4\n",
            "After insert(2, 10): [1, 2, 10, 3, 1, 4, 1, 5, 6, 7, 8]\n",
            "Popped element: 8\n",
            "After pop(): [1, 2, 10, 3, 1, 4, 1, 5, 6, 7]\n",
            "After reverse(): [7, 6, 5, 1, 4, 1, 3, 10, 2, 1]\n",
            "After sort(): [1, 1, 1, 2, 3, 4, 5, 6, 7, 10]\n",
            "Min value: 1\n",
            "Max value: 10\n",
            "Sum of elements: 40\n"
          ]
        }
      ]
    },
    {
      "cell_type": "markdown",
      "source": [
        "## 4, How would you divide the list into two parts?"
      ],
      "metadata": {
        "id": "W9xfjUWak6J_"
      }
    },
    {
      "cell_type": "code",
      "source": [
        "my_list = [1, 2, 3, 4, 5, 6, 7, 8, 9, 10]\n",
        "split_index = len(my_list)\n",
        "first_part = my_list[:split_index]\n",
        "second_part = my_list[split_index:]\n",
        "print(\"Original List:\", my_list)\n",
        "print(\"First Part:\", first_part)\n",
        "print(\"Second Part:\", second_part)\n"
      ],
      "metadata": {
        "id": "y05Kl3Yio-Ot",
        "outputId": "233fec1a-571b-4aef-a5de-0fe5f4369223",
        "colab": {
          "base_uri": "https://localhost:8080/"
        }
      },
      "execution_count": 3,
      "outputs": [
        {
          "output_type": "stream",
          "name": "stdout",
          "text": [
            "Original List: [1, 2, 3, 4, 5, 6, 7, 8, 9, 10]\n",
            "First Part: [1, 2, 3, 4, 5]\n",
            "Second Part: [6, 7, 8, 9, 10]\n"
          ]
        }
      ]
    },
    {
      "cell_type": "markdown",
      "source": [
        "## 5. how to filter the multiple of 3 from a given list and them remove the odd number from the new filtered list.\n",
        "Eg A = [1,2,3,4,5,6,7,8,9,21,23,24]\n",
        "Filter_lsit = [3,6,9,21,24]\n",
        "output_list = [6,24]"
      ],
      "metadata": {
        "id": "Qb1mVGfnk6G5"
      }
    },
    {
      "cell_type": "code",
      "source": [
        "original_list = [1, 2, 3, 4, 5, 6, 7, 8, 9, 10, 11, 12]\n",
        "multiples_of_3 = [x for x in original_list if x % 3 == 0]\n",
        "filtered_list = [x for x in multiples_of_3 if x % 2 == 0]\n",
        "print(\"Original List:\", original_list)\n",
        "print(\"Multiples of 3:\", multiples_of_3)\n",
        "print(\"Filtered List (even multiples of 3):\", filtered_list)\n"
      ],
      "metadata": {
        "id": "2IEOTA_suvOH",
        "outputId": "6046654a-6dc2-4ce0-e8a3-db8d285522ab",
        "colab": {
          "base_uri": "https://localhost:8080/"
        }
      },
      "execution_count": 4,
      "outputs": [
        {
          "output_type": "stream",
          "name": "stdout",
          "text": [
            "Original List: [1, 2, 3, 4, 5, 6, 7, 8, 9, 10, 11, 12]\n",
            "Multiples of 3: [3, 6, 9, 12]\n",
            "Filtered List (even multiples of 3): [6, 12]\n"
          ]
        }
      ]
    },
    {
      "cell_type": "markdown",
      "source": [
        "## 6. How you can access keys and values simultaneously and update its value"
      ],
      "metadata": {
        "id": "auhYyjixk6FD"
      }
    },
    {
      "cell_type": "code",
      "source": [
        "my_dict = {'a': 1, 'b': 2, 'c': 3, 'd': 4}\n",
        "for key, value in my_dict.items():\n",
        "    print(f\"Key: {key}, Value: {value}\")\n",
        "for key in my_dict:\n",
        "    my_dict[key] *= 2\n",
        "print(\"\\nUpdated Dictionary:\")\n",
        "for key, value in my_dict.items():\n",
        "    print(f\"Key: {key}, Updated Value: {value}\")\n"
      ],
      "metadata": {
        "id": "4oZnHu8mvA9S",
        "outputId": "8efedd18-849e-4be0-cbf9-0ee3ca3bfd80",
        "colab": {
          "base_uri": "https://localhost:8080/"
        }
      },
      "execution_count": 5,
      "outputs": [
        {
          "output_type": "stream",
          "name": "stdout",
          "text": [
            "Key: a, Value: 1\n",
            "Key: b, Value: 2\n",
            "Key: c, Value: 3\n",
            "Key: d, Value: 4\n",
            "\n",
            "Updated Dictionary:\n",
            "Key: a, Updated Value: 2\n",
            "Key: b, Updated Value: 4\n",
            "Key: c, Updated Value: 6\n",
            "Key: d, Updated Value: 8\n"
          ]
        }
      ]
    },
    {
      "cell_type": "markdown",
      "source": [
        "## 7. Write python program to join, merge, concatente the two dictionaries..\n"
      ],
      "metadata": {
        "id": "vV00n0awk5_G"
      }
    },
    {
      "cell_type": "code",
      "source": [
        "dict1 = {'a': 1, 'b': 2, 'c': 3}\n",
        "dict2 = {'c': 4, 'd': 5, 'e': 6}\n",
        "merged_dict1 = dict1.copy()\n",
        "merged_dict1.update(dict2)\n",
        "concatenated_dict = {**dict1, **dict2}\n",
        "print(\"Original Dictionary 1:\", dict1)\n",
        "print(\"Original Dictionary 2:\", dict2)\n",
        "print(\"\\nMerged Dictionary using update():\", merged_dict1)\n",
        "print(\"Concatenated Dictionary using {**dict1, **dict2}:\", concatenated_dict)\n"
      ],
      "metadata": {
        "id": "RE9WCHhYvRin",
        "outputId": "9862b4d2-48fe-418d-9fe0-725afeccb7a1",
        "colab": {
          "base_uri": "https://localhost:8080/"
        }
      },
      "execution_count": 6,
      "outputs": [
        {
          "output_type": "stream",
          "name": "stdout",
          "text": [
            "Original Dictionary 1: {'a': 1, 'b': 2, 'c': 3}\n",
            "Original Dictionary 2: {'c': 4, 'd': 5, 'e': 6}\n",
            "\n",
            "Merged Dictionary using update(): {'a': 1, 'b': 2, 'c': 4, 'd': 5, 'e': 6}\n",
            "Concatenated Dictionary using {**dict1, **dict2}: {'a': 1, 'b': 2, 'c': 4, 'd': 5, 'e': 6}\n"
          ]
        }
      ]
    },
    {
      "cell_type": "markdown",
      "source": [
        "## 8. How would you check a specific keys from the dictionary??\n"
      ],
      "metadata": {
        "id": "Z_7dpypWnQ-z"
      }
    },
    {
      "cell_type": "code",
      "source": [
        "my_dict = {'a': 1, 'b': 2, 'c': 3, 'd': 4}\n",
        "key_to_check = 'b'\n",
        "value = my_dict.get(key_to_check)\n",
        "if value is not None:\n",
        "    print(f\"The key '{key_to_check}' is present in the dictionary with value: {value}.\")\n",
        "else:\n",
        "    print(f\"The key '{key_to_check}' is not present in the dictionary.\")\n"
      ],
      "metadata": {
        "id": "gDeibsE3v4VX",
        "outputId": "954715d2-ac04-4460-9a07-a54953c58338",
        "colab": {
          "base_uri": "https://localhost:8080/"
        }
      },
      "execution_count": 7,
      "outputs": [
        {
          "output_type": "stream",
          "name": "stdout",
          "text": [
            "The key 'b' is present in the dictionary with value: 2.\n"
          ]
        }
      ]
    },
    {
      "cell_type": "markdown",
      "source": [
        "## 9. write a python program to find the unique vowel present in the sentence"
      ],
      "metadata": {
        "id": "EjxeB4ntnirH"
      }
    },
    {
      "cell_type": "code",
      "source": [
        "def find_unique_vowels(sentence):\n",
        "    vowels = set(\"aeiouAEIOU\")\n",
        "    unique_vowels = set()\n",
        "    for char in sentence:\n",
        "        if char in vowels:\n",
        "            unique_vowels.add(char.lower())\n",
        "        return unique_vowels\n",
        "input_sentence = \"Hello, how are you today?\"\n",
        "result = find_unique_vowels(input_sentence)\n",
        "print(\"Unique vowels in the sentence:\", result)\n"
      ],
      "metadata": {
        "id": "8aw3JlV9wMCc",
        "outputId": "769f77d9-7c91-4c7a-e0e1-1c39f84fbd89",
        "colab": {
          "base_uri": "https://localhost:8080/"
        }
      },
      "execution_count": 8,
      "outputs": [
        {
          "output_type": "stream",
          "name": "stdout",
          "text": [
            "Unique vowels in the sentence: {'e', 'o', 'u', 'a'}\n"
          ]
        }
      ]
    },
    {
      "cell_type": "markdown",
      "source": [
        "## 10. We know that tuple is immutable, do any thing and add element to the tuples."
      ],
      "metadata": {
        "id": "B1VBImcfns6V"
      }
    },
    {
      "cell_type": "code",
      "source": [
        "my_tuple = (1, 2, 3)\n",
        "new_tuple = my_tuple + (4,)\n",
        "print(\"Original Tuple:\", my_tuple)\n",
        "print(\"New Tuple with element added:\", new_tuple)\n"
      ],
      "metadata": {
        "id": "7u1PkaJpwoYC",
        "outputId": "f8eaa547-e05b-424b-bb56-717b982047b5",
        "colab": {
          "base_uri": "https://localhost:8080/"
        }
      },
      "execution_count": 9,
      "outputs": [
        {
          "output_type": "stream",
          "name": "stdout",
          "text": [
            "Original Tuple: (1, 2, 3)\n",
            "New Tuple with element added: (1, 2, 3, 4)\n"
          ]
        }
      ]
    },
    {
      "cell_type": "markdown",
      "source": [
        "## 11. How would you sum the list of tuple and sum of tuple of list\n",
        "list  = [(2,3),(4,5),(6,4)]\n",
        "output= [5,9,10]\n",
        "\n",
        "tuple  =([2,3],[4,5],[6,4])\n",
        "output  =  (5,9,10)"
      ],
      "metadata": {
        "id": "Yd7tDQHuoGFm"
      }
    },
    {
      "cell_type": "code",
      "source": [
        "list_of_tuples = [(1, 2), (3, 4), (5, 6)]\n",
        "sum_of_list_of_tuples = tuple(sum(x) for x in zip(*list_of_tuples))\n",
        "print(\"List of Tuples:\", list_of_tuples)\n",
        "print(\"Sum of List of Tuples:\", sum_of_list_of_tuples)\n"
      ],
      "metadata": {
        "id": "nlFZL89Iw7xm",
        "outputId": "f8a4f0ed-59e8-495d-df82-9b076d193082",
        "colab": {
          "base_uri": "https://localhost:8080/"
        }
      },
      "execution_count": 10,
      "outputs": [
        {
          "output_type": "stream",
          "name": "stdout",
          "text": [
            "List of Tuples: [(1, 2), (3, 4), (5, 6)]\n",
            "Sum of List of Tuples: (9, 12)\n"
          ]
        }
      ]
    },
    {
      "cell_type": "markdown",
      "source": [
        "## 12. FIND THE FREQUENCY OF THE KEYS IN THE GIVEN DICTIONARY"
      ],
      "metadata": {
        "id": "YiXg_vDpoq7X"
      }
    },
    {
      "cell_type": "code",
      "source": [
        "my_dict = {'a': 1, 'b': 2, 'c': 3, 'a': 4, 'd': 5, 'a': 6, 'b': 7}\n",
        "key_frequency = {}\n",
        "for key in my_dict:\n",
        "    if key in key_frequency:\n",
        "        key_frequency[key] += 1\n",
        "    else:\n",
        "        key_frequency[key] = 1\n",
        "print(\"Original Dictionary:\", my_dict)\n",
        "print(\"Key Frequency:\", key_frequency)\n"
      ],
      "metadata": {
        "id": "xwA0N30cxOb-",
        "outputId": "408305c3-6ecb-41f5-98a9-da25f31309dd",
        "colab": {
          "base_uri": "https://localhost:8080/"
        }
      },
      "execution_count": 11,
      "outputs": [
        {
          "output_type": "stream",
          "name": "stdout",
          "text": [
            "Original Dictionary: {'a': 6, 'b': 7, 'c': 3, 'd': 5}\n",
            "Key Frequency: {'a': 1, 'b': 1, 'c': 1, 'd': 1}\n"
          ]
        }
      ]
    }
  ]
}